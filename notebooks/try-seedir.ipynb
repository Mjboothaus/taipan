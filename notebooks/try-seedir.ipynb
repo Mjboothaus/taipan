{
 "cells": [
  {
   "cell_type": "code",
   "execution_count": 7,
   "metadata": {},
   "outputs": [],
   "source": [
    "import seedir as sd\n",
    "from pathlib import Path\n"
   ]
  },
  {
   "cell_type": "code",
   "execution_count": 10,
   "metadata": {},
   "outputs": [
    {
     "name": "stdout",
     "output_type": "stream",
     "text": [
      "st-data-app-template/\n",
      "├─.dockerignore\n",
      "├─.env\n",
      "├─.env_dockerfile.toml\n",
      "├─.gitignore\n",
      "├─.venv_deploy_st-data-app-template-test1/\n",
      "│ ├─bin/\n",
      "│ ├─etc/\n",
      "│ ├─include/\n",
      "│ ├─lib/\n",
      "│ ├─pyvenv.cfg\n",
      "│ └─share/\n",
      "├─.venv_dev_st-data-app-template/\n",
      "│ ├─bin/\n",
      "│ ├─etc/\n",
      "│ ├─include/\n",
      "│ ├─lib/\n",
      "│ ├─pyvenv.cfg\n",
      "│ └─share/\n",
      "├─.vscode/\n",
      "│ └─launch.json\n",
      "├─Dockerfile\n",
      "├─Dockerfile_app.txt\n",
      "├─Dockerfile_head.txt\n",
      "├─Dockerfile_port.txt\n",
      "├─Dockerfile_py.txt\n",
      "├─LICENSE\n",
      "├─README.md\n",
      "├─TODO.md\n",
      "├─app/\n",
      "│ ├─Main.py\n",
      "│ ├─__pycache__/\n",
      "│ ├─config.py\n",
      "│ ├─pages/\n",
      "│ └─src/\n",
      "├─app.toml\n",
      "├─data/\n",
      "│ └─DATA.md\n",
      "├─docs/\n",
      "│ ├─Main.md\n",
      "│ └─about.md\n",
      "├─justfile\n",
      "├─notebooks/\n",
      "│ ├─.ipynb_checkpoints/\n",
      "│ ├─NOTEBOOKS.md\n",
      "│ ├─first_notebook.ipynb\n",
      "│ └─try-seedir.ipynb\n",
      "├─requirements-deploy.in\n",
      "├─requirements-deploy.txt\n",
      "├─requirements-dev.in\n",
      "├─requirements-dev.txt\n",
      "├─settings.toml\n",
      "└─utils/\n",
      "  └─create_dockerfile.py\n"
     ]
    }
   ],
   "source": [
    "sd.seedir(path=Path.cwd().parent.as_posix(), style='lines', sort=True,\n",
    "    itemlimit=100, depthlimit=2, exclude_folders='.git')"
   ]
  },
  {
   "cell_type": "code",
   "execution_count": 6,
   "metadata": {},
   "outputs": [
    {
     "name": "stdout",
     "output_type": "stream",
     "text": [
      "📁 st-data-app-template/\n",
      "├─📄 requirements-deploy.txt\n",
      "├─📁 app/\n",
      "│ ├─📄 config.py\n",
      "│ ├─📁 __pycache__/\n",
      "│ ├─📄 Main.py\n",
      "│ ├─📁 pages/\n",
      "│ └─📁 src/\n",
      "├─📄 LICENSE\n",
      "├─📄 justfile\n",
      "├─📄 requirements-dev.in\n",
      "├─📁 .venv_dev_st-data-app-template/\n",
      "│ ├─📁 bin/\n",
      "│ ├─📁 include/\n",
      "│ ├─📁 etc/\n",
      "│ ├─📄 pyvenv.cfg\n",
      "│ ├─📁 lib/\n",
      "│ └─📁 share/\n",
      "├─📄 Dockerfile\n",
      "├─📄 Dockerfile_port.txt\n",
      "├─📁 utils/\n",
      "│ └─📄 create_dockerfile.py\n",
      "└─📁 docs/\n",
      "  ├─📄 Main.md\n",
      "  └─📄 about.md\n"
     ]
    }
   ],
   "source": [
    "sd.seedir(path=Path.cwd().parent.as_posix(), style='emoji', itemlimit=10, depthlimit=2, exclude_folders=['.git', '.venv*'])"
   ]
  },
  {
   "cell_type": "code",
   "execution_count": 22,
   "metadata": {},
   "outputs": [
    {
     "name": "stdout",
     "output_type": "stream",
     "text": [
      "['.venv_dev_st-data-app-template', '.venv_deploy_st-data-app-template-test1', '.git']\n"
     ]
    }
   ],
   "source": [
    "my_path = Path.cwd().parent.as_posix()\n",
    "exclude_folders = [folder.parts[-1] for folder in Path(my_path).iterdir() if folder.is_dir() and \"venv\" in folder.as_posix()]\n",
    "exclude_folders.append(\".git\")\n",
    "print(exclude_folders)"
   ]
  },
  {
   "cell_type": "code",
   "execution_count": null,
   "metadata": {},
   "outputs": [],
   "source": []
  },
  {
   "cell_type": "code",
   "execution_count": null,
   "metadata": {},
   "outputs": [],
   "source": []
  }
 ],
 "metadata": {
  "kernelspec": {
   "display_name": ".venv_deploy_st-data-app-template-test1",
   "language": "python",
   "name": ".venv_deploy_st-data-app-template-test1"
  },
  "language_info": {
   "codemirror_mode": {
    "name": "ipython",
    "version": 3
   },
   "file_extension": ".py",
   "mimetype": "text/x-python",
   "name": "python",
   "nbconvert_exporter": "python",
   "pygments_lexer": "ipython3",
   "version": "3.9.12"
  },
  "orig_nbformat": 4,
  "vscode": {
   "interpreter": {
    "hash": "b67cb1ebaa103b4f3be92fa57c4ff67b1361827ab4e227b46eaa2955bfe64312"
   }
  }
 },
 "nbformat": 4,
 "nbformat_minor": 2
}
